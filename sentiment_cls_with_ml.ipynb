{
  "nbformat": 4,
  "nbformat_minor": 0,
  "metadata": {
    "colab": {
      "name": "aihub_sentiment_cls_.ipynb",
      "provenance": [],
      "collapsed_sections": []
    },
    "kernelspec": {
      "name": "python3",
      "display_name": "Python 3"
    },
    "language_info": {
      "name": "python"
    }
  },
  "cells": [
    {
      "cell_type": "code",
      "source": [
        "!sudo apt-get install g++ openjdk-8-jdk python3-dev python3-pip curl\n",
        "!python3 -m pip install --upgrade pip\n",
        "!python3 -m pip install konlpy \n",
        "!bash <(curl -s https://raw.githubusercontent.com/konlpy/konlpy/master/scripts/mecab.sh)"
      ],
      "metadata": {
        "id": "Ix9Xir9kG2bn"
      },
      "execution_count": null,
      "outputs": []
    },
    {
      "cell_type": "code",
      "execution_count": 9,
      "metadata": {
        "id": "A1RYFmUP74J2"
      },
      "outputs": [],
      "source": [
        "import pandas as pd\n",
        "import numpy as np\n",
        "\n",
        "from os.path import join as pjoin\n",
        "\n",
        "from sklearn.model_selection import train_test_split\n",
        "from sklearn.feature_extraction.text import CountVectorizer\n",
        "from sklearn.feature_extraction.text import TfidfTransformer\n",
        "from sklearn.naive_bayes import MultinomialNB\n",
        "from xgboost import XGBClassifier\n",
        "from sklearn.pipeline import Pipeline\n",
        "from sklearn.model_selection import GridSearchCV   #Perforing grid search\n",
        "from sklearn.metrics import f1_score\n"
      ]
    },
    {
      "cell_type": "code",
      "source": [
        "from konlpy.tag import Mecab\n",
        "from typing import List\n",
        "from ast import literal_eval\n",
        "\n",
        "mecab = Mecab()"
      ],
      "metadata": {
        "id": "Edl2TuBkHwqR"
      },
      "execution_count": 7,
      "outputs": []
    },
    {
      "cell_type": "code",
      "source": [
        "def concat_pos(pos_list : List[tuple], concat_pos_list : List[tuple]) -> List[tuple]:\n",
        "    if not pos_list:\n",
        "        return concat_pos_list\n",
        "\n",
        "    if len(concat_pos_list)>0 and concat_pos_list[-1][1].startswith(('XSV', 'VV')) and pos_list[0][1] in ['EC', 'EP', 'EF']:\n",
        "        concat_pos_list[-1] = (concat_pos_list[-1][0]+pos_list[0][0],\n",
        "                            f\"{concat_pos_list[-1][1]}+{pos_list[0][1]}\")\n",
        "        return concat_pos(pos_list[1:], concat_pos_list)\n",
        "    \n",
        "    return concat_pos(pos_list[1:], concat_pos_list + [pos_list[0]])\n",
        "\n",
        "def analyze_syntactics(sent : str) -> tuple:\n",
        "    pos_list = mecab.pos(sent)\n",
        "\n",
        "    pos_list = concat_pos(pos_list, [])\n",
        "    core_pos_list = [pos for pos, tag in pos_list if tag.startswith(('XSV', 'VV')) or tag in ['NNG', 'NNP']]\n",
        "    return core_pos_list"
      ],
      "metadata": {
        "id": "MOy0KwF9Hzhz"
      },
      "execution_count": 4,
      "outputs": []
    },
    {
      "cell_type": "code",
      "source": [
        "def is_nan(string):\n",
        "    return string != string"
      ],
      "metadata": {
        "id": "SyyS6PPhENVI"
      },
      "execution_count": 5,
      "outputs": []
    },
    {
      "cell_type": "code",
      "source": [
        "DATA_DIR = 'drive/MyDrive/Colab_Notebooks/Intellius/Emotional_Dialogue/proc_label_data'"
      ],
      "metadata": {
        "id": "I4tlaQ_v0c7i"
      },
      "execution_count": 6,
      "outputs": []
    },
    {
      "cell_type": "code",
      "source": [
        "train = pd.read_csv(pjoin(DATA_DIR, 'train.csv'), sep='\\t', converters={\n",
        "    'human-utter': literal_eval\n",
        "})\n",
        "valid = pd.read_csv(pjoin(DATA_DIR, 'valid.csv'), sep='\\t', converters={\n",
        "    'human-utter': literal_eval\n",
        "})\n",
        "\n",
        "test = pd.read_csv(pjoin(DATA_DIR, 'test.csv'), sep='\\t', converters={\n",
        "    'human-utter': literal_eval\n",
        "})"
      ],
      "metadata": {
        "id": "f51Spq-w8Omf"
      },
      "execution_count": 10,
      "outputs": []
    },
    {
      "cell_type": "code",
      "source": [
        "train['human-utter-flat'] = list(map(lambda x: ' '.join(x), train['human-utter']))\n",
        "train['query-pos'] = list(map(analyze_syntactics, train['human-utter-flat']))\n",
        "train['query-pos-str'] = list(map(lambda x: ' '.join(x), train['query-pos']))\n",
        "\n",
        "valid['human-utter-flat'] = list(map(lambda x: ' '.join(x), valid['human-utter']))\n",
        "valid['query-pos'] = list(map(analyze_syntactics, valid['human-utter-flat']))\n",
        "valid['query-pos-str'] = list(map(lambda x: ' '.join(x), valid['query-pos']))"
      ],
      "metadata": {
        "id": "he8JBJAdNlV6"
      },
      "execution_count": 30,
      "outputs": []
    },
    {
      "cell_type": "code",
      "source": [
        "dev = pd.concat([train, valid], ignore_index=True)"
      ],
      "metadata": {
        "id": "jVWGkduE878g"
      },
      "execution_count": 31,
      "outputs": []
    },
    {
      "cell_type": "code",
      "source": [
        "test['human-utter-flat'] = list(map(lambda x: ' '.join(x), test['human-utter']))\n",
        "test['query-pos'] = list(map(analyze_syntactics, test['human-utter-flat']))\n",
        "test['query-pos-str'] = list(map(lambda x: ' '.join(x), test['query-pos']))"
      ],
      "metadata": {
        "id": "vKyEJQA42I4l"
      },
      "execution_count": 16,
      "outputs": []
    },
    {
      "cell_type": "code",
      "source": [
        "x_dev = dev['query-pos-str']\n",
        "y_dev = dev['target']"
      ],
      "metadata": {
        "id": "bmDd6OI8d5rA"
      },
      "execution_count": 70,
      "outputs": []
    },
    {
      "cell_type": "code",
      "source": [
        "x_train = train['query-pos-str']\n",
        "y_train = train['target']\n",
        "\n",
        "x_valid = valid['query-pos-str']\n",
        "y_valid = valid['target']\n",
        "\n",
        "x_test = test['query-pos-str']\n",
        "y_test = test['target']"
      ],
      "metadata": {
        "id": "nbPQ8S54DyTC"
      },
      "execution_count": 32,
      "outputs": []
    },
    {
      "cell_type": "code",
      "source": [
        "count_vect = CountVectorizer()\n",
        "x_train_counts = count_vect.fit_transform(x_train)\n",
        "x_valid_counts = count_vect.transform(x_valid)\n",
        "x_test_counts = count_vect.transform(x_test)\n",
        "\n",
        "x_train_counts.shape"
      ],
      "metadata": {
        "colab": {
          "base_uri": "https://localhost:8080/"
        },
        "id": "39ekuzB1ES7y",
        "outputId": "9bc20823-08f9-4a16-d1c2-d339dccde28d"
      },
      "execution_count": 33,
      "outputs": [
        {
          "output_type": "execute_result",
          "data": {
            "text/plain": [
              "(30119, 21225)"
            ]
          },
          "metadata": {},
          "execution_count": 33
        }
      ]
    },
    {
      "cell_type": "code",
      "source": [
        "dev_cnt_vect = CountVectorizer()\n",
        "x_dev_counts = dev_cnt_vect.fit_transform(x_dev)\n",
        "x_dev_test_counts = dev_cnt_vect.transform(x_test)\n",
        "\n",
        "dev_tfidf_transformer = TfidfTransformer()\n",
        "x_dev_tfidf = dev_tfidf_transformer.fit_transform(x_dev_counts)\n",
        "x_dev_test_tfidf = dev_tfidf_transformer.transform(x_dev_test_counts)"
      ],
      "metadata": {
        "id": "shN9Cfm7d_Vu"
      },
      "execution_count": 71,
      "outputs": []
    },
    {
      "cell_type": "code",
      "source": [
        "tfidf_transformer = TfidfTransformer()\n",
        "x_train_tfidf = tfidf_transformer.fit_transform(x_train_counts)\n",
        "x_valid_tfidf = tfidf_transformer.transform(x_valid_counts)\n",
        "x_test_tfidf = tfidf_transformer.transform(x_test_counts)\n",
        "\n",
        "x_train_tfidf.shape"
      ],
      "metadata": {
        "colab": {
          "base_uri": "https://localhost:8080/"
        },
        "id": "xDzfliZsEdJ0",
        "outputId": "a36eabe8-00bd-4703-9556-1f046a6864c7"
      },
      "execution_count": 34,
      "outputs": [
        {
          "output_type": "execute_result",
          "data": {
            "text/plain": [
              "(30119, 21225)"
            ]
          },
          "metadata": {},
          "execution_count": 34
        }
      ]
    },
    {
      "cell_type": "code",
      "source": [
        "xgb_wrapper = XGBClassifier(n_estimators = 5000, \n",
        "                            learning_rate = 0.1 , \n",
        "                            max_depth = 8,\n",
        "                            min_child_weight=1,\n",
        "                            gamma=0,\n",
        "                            subsample=0.8,\n",
        "                            colsample_bytree=0.8,\n",
        "                            objective= 'multi:softmax',\n",
        "                            num_class=4,\n",
        "                            nthread=-1,\n",
        "                            scale_pos_weight=1,\n",
        "                            seed=42\n",
        "                            )\n",
        "evals = [(x_valid_tfidf, y_valid)]\n",
        "xgb_wrapper.fit(x_train_tfidf, y_train, early_stopping_rounds = 100, \n",
        "                eval_set = evals, verbose=True)\n",
        "\n",
        "ws100_preds = xgb_wrapper.predict(x_test_tfidf)"
      ],
      "metadata": {
        "colab": {
          "base_uri": "https://localhost:8080/"
        },
        "id": "VUNB6aVvOGSp",
        "outputId": "002eb080-a3da-4013-b6ab-0bea343da53a"
      },
      "execution_count": 40,
      "outputs": [
        {
          "output_type": "stream",
          "name": "stdout",
          "text": [
            "[0]\tvalidation_0-merror:0.510887\n",
            "Will train until validation_0-merror hasn't improved in 100 rounds.\n",
            "[1]\tvalidation_0-merror:0.469995\n",
            "[2]\tvalidation_0-merror:0.449549\n",
            "[3]\tvalidation_0-merror:0.443574\n",
            "[4]\tvalidation_0-merror:0.443176\n",
            "[5]\tvalidation_0-merror:0.441052\n",
            "[6]\tvalidation_0-merror:0.44291\n",
            "[7]\tvalidation_0-merror:0.443309\n",
            "[8]\tvalidation_0-merror:0.44291\n",
            "[9]\tvalidation_0-merror:0.440255\n",
            "[10]\tvalidation_0-merror:0.438794\n",
            "[11]\tvalidation_0-merror:0.436006\n",
            "[12]\tvalidation_0-merror:0.433617\n",
            "[13]\tvalidation_0-merror:0.432023\n",
            "[14]\tvalidation_0-merror:0.431758\n",
            "[15]\tvalidation_0-merror:0.431891\n",
            "[16]\tvalidation_0-merror:0.432687\n",
            "[17]\tvalidation_0-merror:0.431492\n",
            "[18]\tvalidation_0-merror:0.429368\n",
            "[19]\tvalidation_0-merror:0.427642\n",
            "[20]\tvalidation_0-merror:0.424456\n",
            "[21]\tvalidation_0-merror:0.423659\n",
            "[22]\tvalidation_0-merror:0.423261\n",
            "[23]\tvalidation_0-merror:0.423659\n",
            "[24]\tvalidation_0-merror:0.422862\n",
            "[25]\tvalidation_0-merror:0.4218\n",
            "[26]\tvalidation_0-merror:0.421402\n",
            "[27]\tvalidation_0-merror:0.421269\n",
            "[28]\tvalidation_0-merror:0.420207\n",
            "[29]\tvalidation_0-merror:0.420207\n",
            "[30]\tvalidation_0-merror:0.419411\n",
            "[31]\tvalidation_0-merror:0.418348\n",
            "[32]\tvalidation_0-merror:0.417286\n",
            "[33]\tvalidation_0-merror:0.41556\n",
            "[34]\tvalidation_0-merror:0.414764\n",
            "[35]\tvalidation_0-merror:0.415162\n",
            "[36]\tvalidation_0-merror:0.414764\n",
            "[37]\tvalidation_0-merror:0.414631\n",
            "[38]\tvalidation_0-merror:0.413303\n",
            "[39]\tvalidation_0-merror:0.412108\n",
            "[40]\tvalidation_0-merror:0.409984\n",
            "[41]\tvalidation_0-merror:0.40786\n",
            "[42]\tvalidation_0-merror:0.407594\n",
            "[43]\tvalidation_0-merror:0.407329\n",
            "[44]\tvalidation_0-merror:0.406798\n",
            "[45]\tvalidation_0-merror:0.40693\n",
            "[46]\tvalidation_0-merror:0.406267\n",
            "[47]\tvalidation_0-merror:0.405736\n",
            "[48]\tvalidation_0-merror:0.404541\n",
            "[49]\tvalidation_0-merror:0.404408\n",
            "[50]\tvalidation_0-merror:0.403744\n",
            "[51]\tvalidation_0-merror:0.403877\n",
            "[52]\tvalidation_0-merror:0.403479\n",
            "[53]\tvalidation_0-merror:0.403744\n",
            "[54]\tvalidation_0-merror:0.401753\n",
            "[55]\tvalidation_0-merror:0.402284\n",
            "[56]\tvalidation_0-merror:0.402151\n",
            "[57]\tvalidation_0-merror:0.400292\n",
            "[58]\tvalidation_0-merror:0.399761\n",
            "[59]\tvalidation_0-merror:0.399761\n",
            "[60]\tvalidation_0-merror:0.398566\n",
            "[61]\tvalidation_0-merror:0.39777\n",
            "[62]\tvalidation_0-merror:0.397238\n",
            "[63]\tvalidation_0-merror:0.396973\n",
            "[64]\tvalidation_0-merror:0.396442\n",
            "[65]\tvalidation_0-merror:0.396044\n",
            "[66]\tvalidation_0-merror:0.395911\n",
            "[67]\tvalidation_0-merror:0.395512\n",
            "[68]\tvalidation_0-merror:0.39445\n",
            "[69]\tvalidation_0-merror:0.393919\n",
            "[70]\tvalidation_0-merror:0.393521\n",
            "[71]\tvalidation_0-merror:0.393654\n",
            "[72]\tvalidation_0-merror:0.392592\n",
            "[73]\tvalidation_0-merror:0.391397\n",
            "[74]\tvalidation_0-merror:0.391397\n",
            "[75]\tvalidation_0-merror:0.390335\n",
            "[76]\tvalidation_0-merror:0.389803\n",
            "[77]\tvalidation_0-merror:0.389538\n",
            "[78]\tvalidation_0-merror:0.389803\n",
            "[79]\tvalidation_0-merror:0.389405\n",
            "[80]\tvalidation_0-merror:0.38914\n",
            "[81]\tvalidation_0-merror:0.38821\n",
            "[82]\tvalidation_0-merror:0.387945\n",
            "[83]\tvalidation_0-merror:0.387148\n",
            "[84]\tvalidation_0-merror:0.387414\n",
            "[85]\tvalidation_0-merror:0.386883\n",
            "[86]\tvalidation_0-merror:0.386352\n",
            "[87]\tvalidation_0-merror:0.385821\n",
            "[88]\tvalidation_0-merror:0.385555\n",
            "[89]\tvalidation_0-merror:0.384891\n",
            "[90]\tvalidation_0-merror:0.384227\n",
            "[91]\tvalidation_0-merror:0.383032\n",
            "[92]\tvalidation_0-merror:0.382634\n",
            "[93]\tvalidation_0-merror:0.382501\n",
            "[94]\tvalidation_0-merror:0.382369\n",
            "[95]\tvalidation_0-merror:0.38197\n",
            "[96]\tvalidation_0-merror:0.381837\n",
            "[97]\tvalidation_0-merror:0.381572\n",
            "[98]\tvalidation_0-merror:0.380643\n",
            "[99]\tvalidation_0-merror:0.379846\n",
            "[100]\tvalidation_0-merror:0.380775\n",
            "[101]\tvalidation_0-merror:0.380775\n",
            "[102]\tvalidation_0-merror:0.379846\n",
            "[103]\tvalidation_0-merror:0.379979\n",
            "[104]\tvalidation_0-merror:0.379979\n",
            "[105]\tvalidation_0-merror:0.379846\n",
            "[106]\tvalidation_0-merror:0.378917\n",
            "[107]\tvalidation_0-merror:0.379049\n",
            "[108]\tvalidation_0-merror:0.37812\n",
            "[109]\tvalidation_0-merror:0.377323\n",
            "[110]\tvalidation_0-merror:0.377323\n",
            "[111]\tvalidation_0-merror:0.377323\n",
            "[112]\tvalidation_0-merror:0.377854\n",
            "[113]\tvalidation_0-merror:0.377722\n",
            "[114]\tvalidation_0-merror:0.376792\n",
            "[115]\tvalidation_0-merror:0.376527\n",
            "[116]\tvalidation_0-merror:0.375996\n",
            "[117]\tvalidation_0-merror:0.376527\n",
            "[118]\tvalidation_0-merror:0.377456\n",
            "[119]\tvalidation_0-merror:0.377191\n",
            "[120]\tvalidation_0-merror:0.376394\n",
            "[121]\tvalidation_0-merror:0.376129\n",
            "[122]\tvalidation_0-merror:0.375863\n",
            "[123]\tvalidation_0-merror:0.375597\n",
            "[124]\tvalidation_0-merror:0.375597\n",
            "[125]\tvalidation_0-merror:0.375066\n",
            "[126]\tvalidation_0-merror:0.375199\n",
            "[127]\tvalidation_0-merror:0.374137\n",
            "[128]\tvalidation_0-merror:0.373739\n",
            "[129]\tvalidation_0-merror:0.373739\n",
            "[130]\tvalidation_0-merror:0.373208\n",
            "[131]\tvalidation_0-merror:0.37334\n",
            "[132]\tvalidation_0-merror:0.372411\n",
            "[133]\tvalidation_0-merror:0.372544\n",
            "[134]\tvalidation_0-merror:0.371349\n",
            "[135]\tvalidation_0-merror:0.372278\n",
            "[136]\tvalidation_0-merror:0.371349\n",
            "[137]\tvalidation_0-merror:0.370685\n",
            "[138]\tvalidation_0-merror:0.369756\n",
            "[139]\tvalidation_0-merror:0.36949\n",
            "[140]\tvalidation_0-merror:0.369357\n",
            "[141]\tvalidation_0-merror:0.369357\n",
            "[142]\tvalidation_0-merror:0.369092\n",
            "[143]\tvalidation_0-merror:0.368959\n",
            "[144]\tvalidation_0-merror:0.368959\n",
            "[145]\tvalidation_0-merror:0.369225\n",
            "[146]\tvalidation_0-merror:0.36803\n",
            "[147]\tvalidation_0-merror:0.368163\n",
            "[148]\tvalidation_0-merror:0.36803\n",
            "[149]\tvalidation_0-merror:0.368163\n",
            "[150]\tvalidation_0-merror:0.368295\n",
            "[151]\tvalidation_0-merror:0.3671\n",
            "[152]\tvalidation_0-merror:0.367233\n",
            "[153]\tvalidation_0-merror:0.366835\n",
            "[154]\tvalidation_0-merror:0.366702\n",
            "[155]\tvalidation_0-merror:0.366437\n",
            "[156]\tvalidation_0-merror:0.36564\n",
            "[157]\tvalidation_0-merror:0.364711\n",
            "[158]\tvalidation_0-merror:0.365109\n",
            "[159]\tvalidation_0-merror:0.364976\n",
            "[160]\tvalidation_0-merror:0.365109\n",
            "[161]\tvalidation_0-merror:0.36564\n",
            "[162]\tvalidation_0-merror:0.364312\n",
            "[163]\tvalidation_0-merror:0.363516\n",
            "[164]\tvalidation_0-merror:0.363648\n",
            "[165]\tvalidation_0-merror:0.363648\n",
            "[166]\tvalidation_0-merror:0.363516\n",
            "[167]\tvalidation_0-merror:0.363516\n",
            "[168]\tvalidation_0-merror:0.363781\n",
            "[169]\tvalidation_0-merror:0.363383\n",
            "[170]\tvalidation_0-merror:0.361922\n",
            "[171]\tvalidation_0-merror:0.361524\n",
            "[172]\tvalidation_0-merror:0.36179\n",
            "[173]\tvalidation_0-merror:0.36179\n",
            "[174]\tvalidation_0-merror:0.362188\n",
            "[175]\tvalidation_0-merror:0.363648\n",
            "[176]\tvalidation_0-merror:0.363648\n",
            "[177]\tvalidation_0-merror:0.363914\n",
            "[178]\tvalidation_0-merror:0.363781\n",
            "[179]\tvalidation_0-merror:0.362719\n",
            "[180]\tvalidation_0-merror:0.363117\n",
            "[181]\tvalidation_0-merror:0.36325\n",
            "[182]\tvalidation_0-merror:0.362852\n",
            "[183]\tvalidation_0-merror:0.362055\n",
            "[184]\tvalidation_0-merror:0.361391\n",
            "[185]\tvalidation_0-merror:0.361391\n",
            "[186]\tvalidation_0-merror:0.361657\n",
            "[187]\tvalidation_0-merror:0.361259\n",
            "[188]\tvalidation_0-merror:0.361391\n",
            "[189]\tvalidation_0-merror:0.361126\n",
            "[190]\tvalidation_0-merror:0.361391\n",
            "[191]\tvalidation_0-merror:0.361391\n",
            "[192]\tvalidation_0-merror:0.361391\n",
            "[193]\tvalidation_0-merror:0.361391\n",
            "[194]\tvalidation_0-merror:0.361524\n",
            "[195]\tvalidation_0-merror:0.360993\n",
            "[196]\tvalidation_0-merror:0.361126\n",
            "[197]\tvalidation_0-merror:0.360462\n",
            "[198]\tvalidation_0-merror:0.360064\n",
            "[199]\tvalidation_0-merror:0.359798\n",
            "[200]\tvalidation_0-merror:0.360064\n",
            "[201]\tvalidation_0-merror:0.3594\n",
            "[202]\tvalidation_0-merror:0.359267\n",
            "[203]\tvalidation_0-merror:0.359267\n",
            "[204]\tvalidation_0-merror:0.359134\n",
            "[205]\tvalidation_0-merror:0.359134\n",
            "[206]\tvalidation_0-merror:0.358736\n",
            "[207]\tvalidation_0-merror:0.358471\n",
            "[208]\tvalidation_0-merror:0.358338\n",
            "[209]\tvalidation_0-merror:0.358205\n",
            "[210]\tvalidation_0-merror:0.358072\n",
            "[211]\tvalidation_0-merror:0.358471\n",
            "[212]\tvalidation_0-merror:0.358338\n",
            "[213]\tvalidation_0-merror:0.358471\n",
            "[214]\tvalidation_0-merror:0.357939\n",
            "[215]\tvalidation_0-merror:0.357143\n",
            "[216]\tvalidation_0-merror:0.357276\n",
            "[217]\tvalidation_0-merror:0.35701\n",
            "[218]\tvalidation_0-merror:0.357541\n",
            "[219]\tvalidation_0-merror:0.357408\n",
            "[220]\tvalidation_0-merror:0.357276\n",
            "[221]\tvalidation_0-merror:0.357408\n",
            "[222]\tvalidation_0-merror:0.357276\n",
            "[223]\tvalidation_0-merror:0.357143\n",
            "[224]\tvalidation_0-merror:0.356612\n",
            "[225]\tvalidation_0-merror:0.356081\n",
            "[226]\tvalidation_0-merror:0.356213\n",
            "[227]\tvalidation_0-merror:0.356081\n",
            "[228]\tvalidation_0-merror:0.355948\n",
            "[229]\tvalidation_0-merror:0.355019\n",
            "[230]\tvalidation_0-merror:0.354753\n",
            "[231]\tvalidation_0-merror:0.35555\n",
            "[232]\tvalidation_0-merror:0.355284\n",
            "[233]\tvalidation_0-merror:0.355151\n",
            "[234]\tvalidation_0-merror:0.354488\n",
            "[235]\tvalidation_0-merror:0.354886\n",
            "[236]\tvalidation_0-merror:0.354753\n",
            "[237]\tvalidation_0-merror:0.354753\n",
            "[238]\tvalidation_0-merror:0.354886\n",
            "[239]\tvalidation_0-merror:0.354886\n",
            "[240]\tvalidation_0-merror:0.354753\n",
            "[241]\tvalidation_0-merror:0.354753\n",
            "[242]\tvalidation_0-merror:0.35462\n",
            "[243]\tvalidation_0-merror:0.354488\n",
            "[244]\tvalidation_0-merror:0.354488\n",
            "[245]\tvalidation_0-merror:0.354355\n",
            "[246]\tvalidation_0-merror:0.354355\n",
            "[247]\tvalidation_0-merror:0.354355\n",
            "[248]\tvalidation_0-merror:0.354089\n",
            "[249]\tvalidation_0-merror:0.353691\n",
            "[250]\tvalidation_0-merror:0.353691\n",
            "[251]\tvalidation_0-merror:0.352629\n",
            "[252]\tvalidation_0-merror:0.35223\n",
            "[253]\tvalidation_0-merror:0.351965\n",
            "[254]\tvalidation_0-merror:0.35223\n",
            "[255]\tvalidation_0-merror:0.352098\n",
            "[256]\tvalidation_0-merror:0.351567\n",
            "[257]\tvalidation_0-merror:0.351434\n",
            "[258]\tvalidation_0-merror:0.351168\n",
            "[259]\tvalidation_0-merror:0.351434\n",
            "[260]\tvalidation_0-merror:0.351301\n",
            "[261]\tvalidation_0-merror:0.351301\n",
            "[262]\tvalidation_0-merror:0.351434\n",
            "[263]\tvalidation_0-merror:0.351301\n",
            "[264]\tvalidation_0-merror:0.351036\n",
            "[265]\tvalidation_0-merror:0.351168\n",
            "[266]\tvalidation_0-merror:0.351036\n",
            "[267]\tvalidation_0-merror:0.350239\n",
            "[268]\tvalidation_0-merror:0.350903\n",
            "[269]\tvalidation_0-merror:0.350637\n",
            "[270]\tvalidation_0-merror:0.350372\n",
            "[271]\tvalidation_0-merror:0.350106\n",
            "[272]\tvalidation_0-merror:0.349973\n",
            "[273]\tvalidation_0-merror:0.349708\n",
            "[274]\tvalidation_0-merror:0.349708\n",
            "[275]\tvalidation_0-merror:0.349177\n",
            "[276]\tvalidation_0-merror:0.348911\n",
            "[277]\tvalidation_0-merror:0.34838\n",
            "[278]\tvalidation_0-merror:0.34838\n",
            "[279]\tvalidation_0-merror:0.348646\n",
            "[280]\tvalidation_0-merror:0.348646\n",
            "[281]\tvalidation_0-merror:0.348513\n",
            "[282]\tvalidation_0-merror:0.348247\n",
            "[283]\tvalidation_0-merror:0.348646\n",
            "[284]\tvalidation_0-merror:0.348779\n",
            "[285]\tvalidation_0-merror:0.348646\n",
            "[286]\tvalidation_0-merror:0.349177\n",
            "[287]\tvalidation_0-merror:0.349044\n",
            "[288]\tvalidation_0-merror:0.348911\n",
            "[289]\tvalidation_0-merror:0.349044\n",
            "[290]\tvalidation_0-merror:0.348646\n",
            "[291]\tvalidation_0-merror:0.348911\n",
            "[292]\tvalidation_0-merror:0.349177\n",
            "[293]\tvalidation_0-merror:0.348911\n",
            "[294]\tvalidation_0-merror:0.348779\n",
            "[295]\tvalidation_0-merror:0.348513\n",
            "[296]\tvalidation_0-merror:0.347982\n",
            "[297]\tvalidation_0-merror:0.348646\n",
            "[298]\tvalidation_0-merror:0.348513\n",
            "[299]\tvalidation_0-merror:0.348115\n",
            "[300]\tvalidation_0-merror:0.347716\n",
            "[301]\tvalidation_0-merror:0.346787\n",
            "[302]\tvalidation_0-merror:0.347185\n",
            "[303]\tvalidation_0-merror:0.346654\n",
            "[304]\tvalidation_0-merror:0.346654\n",
            "[305]\tvalidation_0-merror:0.34692\n",
            "[306]\tvalidation_0-merror:0.347318\n",
            "[307]\tvalidation_0-merror:0.347185\n",
            "[308]\tvalidation_0-merror:0.347053\n",
            "[309]\tvalidation_0-merror:0.347584\n",
            "[310]\tvalidation_0-merror:0.347318\n",
            "[311]\tvalidation_0-merror:0.347185\n",
            "[312]\tvalidation_0-merror:0.347185\n",
            "[313]\tvalidation_0-merror:0.346787\n",
            "[314]\tvalidation_0-merror:0.34692\n",
            "[315]\tvalidation_0-merror:0.346787\n",
            "[316]\tvalidation_0-merror:0.34692\n",
            "[317]\tvalidation_0-merror:0.346521\n",
            "[318]\tvalidation_0-merror:0.346521\n",
            "[319]\tvalidation_0-merror:0.346654\n",
            "[320]\tvalidation_0-merror:0.346521\n",
            "[321]\tvalidation_0-merror:0.346256\n",
            "[322]\tvalidation_0-merror:0.346123\n",
            "[323]\tvalidation_0-merror:0.345858\n",
            "[324]\tvalidation_0-merror:0.345725\n",
            "[325]\tvalidation_0-merror:0.345858\n",
            "[326]\tvalidation_0-merror:0.346123\n",
            "[327]\tvalidation_0-merror:0.345592\n",
            "[328]\tvalidation_0-merror:0.345858\n",
            "[329]\tvalidation_0-merror:0.34599\n",
            "[330]\tvalidation_0-merror:0.34599\n",
            "[331]\tvalidation_0-merror:0.345459\n",
            "[332]\tvalidation_0-merror:0.345858\n",
            "[333]\tvalidation_0-merror:0.345592\n",
            "[334]\tvalidation_0-merror:0.345194\n",
            "[335]\tvalidation_0-merror:0.345327\n",
            "[336]\tvalidation_0-merror:0.345061\n",
            "[337]\tvalidation_0-merror:0.345061\n",
            "[338]\tvalidation_0-merror:0.344663\n",
            "[339]\tvalidation_0-merror:0.344264\n",
            "[340]\tvalidation_0-merror:0.34453\n",
            "[341]\tvalidation_0-merror:0.343866\n",
            "[342]\tvalidation_0-merror:0.344132\n",
            "[343]\tvalidation_0-merror:0.344663\n",
            "[344]\tvalidation_0-merror:0.34453\n",
            "[345]\tvalidation_0-merror:0.344796\n",
            "[346]\tvalidation_0-merror:0.345592\n",
            "[347]\tvalidation_0-merror:0.345459\n",
            "[348]\tvalidation_0-merror:0.345061\n",
            "[349]\tvalidation_0-merror:0.345459\n",
            "[350]\tvalidation_0-merror:0.345592\n",
            "[351]\tvalidation_0-merror:0.345725\n",
            "[352]\tvalidation_0-merror:0.345327\n",
            "[353]\tvalidation_0-merror:0.34453\n",
            "[354]\tvalidation_0-merror:0.344663\n",
            "[355]\tvalidation_0-merror:0.344796\n",
            "[356]\tvalidation_0-merror:0.344796\n",
            "[357]\tvalidation_0-merror:0.344796\n",
            "[358]\tvalidation_0-merror:0.344796\n",
            "[359]\tvalidation_0-merror:0.344663\n",
            "[360]\tvalidation_0-merror:0.34453\n",
            "[361]\tvalidation_0-merror:0.344663\n",
            "[362]\tvalidation_0-merror:0.344663\n",
            "[363]\tvalidation_0-merror:0.344397\n",
            "[364]\tvalidation_0-merror:0.344264\n",
            "[365]\tvalidation_0-merror:0.34453\n",
            "[366]\tvalidation_0-merror:0.344132\n",
            "[367]\tvalidation_0-merror:0.343866\n",
            "[368]\tvalidation_0-merror:0.343999\n",
            "[369]\tvalidation_0-merror:0.344264\n",
            "[370]\tvalidation_0-merror:0.343866\n",
            "[371]\tvalidation_0-merror:0.344264\n",
            "[372]\tvalidation_0-merror:0.344397\n",
            "[373]\tvalidation_0-merror:0.344264\n",
            "[374]\tvalidation_0-merror:0.344132\n",
            "[375]\tvalidation_0-merror:0.34453\n",
            "[376]\tvalidation_0-merror:0.343999\n",
            "[377]\tvalidation_0-merror:0.343999\n",
            "[378]\tvalidation_0-merror:0.343999\n",
            "[379]\tvalidation_0-merror:0.343866\n",
            "[380]\tvalidation_0-merror:0.343733\n",
            "[381]\tvalidation_0-merror:0.343468\n",
            "[382]\tvalidation_0-merror:0.343335\n",
            "[383]\tvalidation_0-merror:0.343202\n",
            "[384]\tvalidation_0-merror:0.343335\n",
            "[385]\tvalidation_0-merror:0.343601\n",
            "[386]\tvalidation_0-merror:0.343866\n",
            "[387]\tvalidation_0-merror:0.343733\n",
            "[388]\tvalidation_0-merror:0.343733\n",
            "[389]\tvalidation_0-merror:0.344132\n",
            "[390]\tvalidation_0-merror:0.344132\n",
            "[391]\tvalidation_0-merror:0.344264\n",
            "[392]\tvalidation_0-merror:0.344264\n",
            "[393]\tvalidation_0-merror:0.344132\n",
            "[394]\tvalidation_0-merror:0.343999\n",
            "[395]\tvalidation_0-merror:0.343468\n",
            "[396]\tvalidation_0-merror:0.34307\n",
            "[397]\tvalidation_0-merror:0.342671\n",
            "[398]\tvalidation_0-merror:0.342937\n",
            "[399]\tvalidation_0-merror:0.342273\n",
            "[400]\tvalidation_0-merror:0.342539\n",
            "[401]\tvalidation_0-merror:0.342406\n",
            "[402]\tvalidation_0-merror:0.342273\n",
            "[403]\tvalidation_0-merror:0.342007\n",
            "[404]\tvalidation_0-merror:0.341742\n",
            "[405]\tvalidation_0-merror:0.341742\n",
            "[406]\tvalidation_0-merror:0.341476\n",
            "[407]\tvalidation_0-merror:0.341476\n",
            "[408]\tvalidation_0-merror:0.340945\n",
            "[409]\tvalidation_0-merror:0.340813\n",
            "[410]\tvalidation_0-merror:0.340945\n",
            "[411]\tvalidation_0-merror:0.340813\n",
            "[412]\tvalidation_0-merror:0.340945\n",
            "[413]\tvalidation_0-merror:0.340281\n",
            "[414]\tvalidation_0-merror:0.34068\n",
            "[415]\tvalidation_0-merror:0.34068\n",
            "[416]\tvalidation_0-merror:0.340414\n",
            "[417]\tvalidation_0-merror:0.340281\n",
            "[418]\tvalidation_0-merror:0.340149\n",
            "[419]\tvalidation_0-merror:0.340547\n",
            "[420]\tvalidation_0-merror:0.340945\n",
            "[421]\tvalidation_0-merror:0.340414\n",
            "[422]\tvalidation_0-merror:0.340547\n",
            "[423]\tvalidation_0-merror:0.340813\n",
            "[424]\tvalidation_0-merror:0.341078\n",
            "[425]\tvalidation_0-merror:0.340945\n",
            "[426]\tvalidation_0-merror:0.340813\n",
            "[427]\tvalidation_0-merror:0.34068\n",
            "[428]\tvalidation_0-merror:0.34068\n",
            "[429]\tvalidation_0-merror:0.340547\n",
            "[430]\tvalidation_0-merror:0.34068\n",
            "[431]\tvalidation_0-merror:0.340547\n",
            "[432]\tvalidation_0-merror:0.340149\n",
            "[433]\tvalidation_0-merror:0.339618\n",
            "[434]\tvalidation_0-merror:0.339087\n",
            "[435]\tvalidation_0-merror:0.339352\n",
            "[436]\tvalidation_0-merror:0.339087\n",
            "[437]\tvalidation_0-merror:0.339485\n",
            "[438]\tvalidation_0-merror:0.339618\n",
            "[439]\tvalidation_0-merror:0.338954\n",
            "[440]\tvalidation_0-merror:0.338954\n",
            "[441]\tvalidation_0-merror:0.339219\n",
            "[442]\tvalidation_0-merror:0.339087\n",
            "[443]\tvalidation_0-merror:0.339485\n",
            "[444]\tvalidation_0-merror:0.339485\n",
            "[445]\tvalidation_0-merror:0.338954\n",
            "[446]\tvalidation_0-merror:0.338688\n",
            "[447]\tvalidation_0-merror:0.338954\n",
            "[448]\tvalidation_0-merror:0.339087\n",
            "[449]\tvalidation_0-merror:0.338688\n",
            "[450]\tvalidation_0-merror:0.338423\n",
            "[451]\tvalidation_0-merror:0.338423\n",
            "[452]\tvalidation_0-merror:0.337759\n",
            "[453]\tvalidation_0-merror:0.337626\n",
            "[454]\tvalidation_0-merror:0.337759\n",
            "[455]\tvalidation_0-merror:0.338024\n",
            "[456]\tvalidation_0-merror:0.337892\n",
            "[457]\tvalidation_0-merror:0.338024\n",
            "[458]\tvalidation_0-merror:0.33829\n",
            "[459]\tvalidation_0-merror:0.338423\n",
            "[460]\tvalidation_0-merror:0.337892\n",
            "[461]\tvalidation_0-merror:0.337759\n",
            "[462]\tvalidation_0-merror:0.337361\n",
            "[463]\tvalidation_0-merror:0.337361\n",
            "[464]\tvalidation_0-merror:0.337759\n",
            "[465]\tvalidation_0-merror:0.337493\n",
            "[466]\tvalidation_0-merror:0.337228\n",
            "[467]\tvalidation_0-merror:0.337493\n",
            "[468]\tvalidation_0-merror:0.337626\n",
            "[469]\tvalidation_0-merror:0.337361\n",
            "[470]\tvalidation_0-merror:0.336962\n",
            "[471]\tvalidation_0-merror:0.336962\n",
            "[472]\tvalidation_0-merror:0.336697\n",
            "[473]\tvalidation_0-merror:0.336431\n",
            "[474]\tvalidation_0-merror:0.336298\n",
            "[475]\tvalidation_0-merror:0.336033\n",
            "[476]\tvalidation_0-merror:0.336431\n",
            "[477]\tvalidation_0-merror:0.336166\n",
            "[478]\tvalidation_0-merror:0.336431\n",
            "[479]\tvalidation_0-merror:0.336166\n",
            "[480]\tvalidation_0-merror:0.3359\n",
            "[481]\tvalidation_0-merror:0.336166\n",
            "[482]\tvalidation_0-merror:0.336298\n",
            "[483]\tvalidation_0-merror:0.336166\n",
            "[484]\tvalidation_0-merror:0.335635\n",
            "[485]\tvalidation_0-merror:0.335767\n",
            "[486]\tvalidation_0-merror:0.335369\n",
            "[487]\tvalidation_0-merror:0.335635\n",
            "[488]\tvalidation_0-merror:0.335502\n",
            "[489]\tvalidation_0-merror:0.335502\n",
            "[490]\tvalidation_0-merror:0.335767\n",
            "[491]\tvalidation_0-merror:0.336298\n",
            "[492]\tvalidation_0-merror:0.336166\n",
            "[493]\tvalidation_0-merror:0.336431\n",
            "[494]\tvalidation_0-merror:0.337095\n",
            "[495]\tvalidation_0-merror:0.337095\n",
            "[496]\tvalidation_0-merror:0.337228\n",
            "[497]\tvalidation_0-merror:0.337228\n",
            "[498]\tvalidation_0-merror:0.337361\n",
            "[499]\tvalidation_0-merror:0.336962\n",
            "[500]\tvalidation_0-merror:0.336962\n",
            "[501]\tvalidation_0-merror:0.33683\n",
            "[502]\tvalidation_0-merror:0.336298\n",
            "[503]\tvalidation_0-merror:0.336298\n",
            "[504]\tvalidation_0-merror:0.336431\n",
            "[505]\tvalidation_0-merror:0.336564\n",
            "[506]\tvalidation_0-merror:0.336697\n",
            "[507]\tvalidation_0-merror:0.336564\n",
            "[508]\tvalidation_0-merror:0.336166\n",
            "[509]\tvalidation_0-merror:0.336298\n",
            "[510]\tvalidation_0-merror:0.336166\n",
            "[511]\tvalidation_0-merror:0.336298\n",
            "[512]\tvalidation_0-merror:0.336166\n",
            "[513]\tvalidation_0-merror:0.336298\n",
            "[514]\tvalidation_0-merror:0.335767\n",
            "[515]\tvalidation_0-merror:0.336033\n",
            "[516]\tvalidation_0-merror:0.336166\n",
            "[517]\tvalidation_0-merror:0.335635\n",
            "[518]\tvalidation_0-merror:0.3359\n",
            "[519]\tvalidation_0-merror:0.335635\n",
            "[520]\tvalidation_0-merror:0.335236\n",
            "[521]\tvalidation_0-merror:0.334838\n",
            "[522]\tvalidation_0-merror:0.334705\n",
            "[523]\tvalidation_0-merror:0.334572\n",
            "[524]\tvalidation_0-merror:0.334572\n",
            "[525]\tvalidation_0-merror:0.334174\n",
            "[526]\tvalidation_0-merror:0.334041\n",
            "[527]\tvalidation_0-merror:0.33444\n",
            "[528]\tvalidation_0-merror:0.334971\n",
            "[529]\tvalidation_0-merror:0.335635\n",
            "[530]\tvalidation_0-merror:0.335635\n",
            "[531]\tvalidation_0-merror:0.335236\n",
            "[532]\tvalidation_0-merror:0.334838\n",
            "[533]\tvalidation_0-merror:0.335236\n",
            "[534]\tvalidation_0-merror:0.334705\n",
            "[535]\tvalidation_0-merror:0.334572\n",
            "[536]\tvalidation_0-merror:0.334572\n",
            "[537]\tvalidation_0-merror:0.334971\n",
            "[538]\tvalidation_0-merror:0.334971\n",
            "[539]\tvalidation_0-merror:0.335104\n",
            "[540]\tvalidation_0-merror:0.335369\n",
            "[541]\tvalidation_0-merror:0.335104\n",
            "[542]\tvalidation_0-merror:0.335104\n",
            "[543]\tvalidation_0-merror:0.335502\n",
            "[544]\tvalidation_0-merror:0.335635\n",
            "[545]\tvalidation_0-merror:0.3359\n",
            "[546]\tvalidation_0-merror:0.336298\n",
            "[547]\tvalidation_0-merror:0.336298\n",
            "[548]\tvalidation_0-merror:0.336298\n",
            "[549]\tvalidation_0-merror:0.336033\n",
            "[550]\tvalidation_0-merror:0.336166\n",
            "[551]\tvalidation_0-merror:0.3359\n",
            "[552]\tvalidation_0-merror:0.3359\n",
            "[553]\tvalidation_0-merror:0.335767\n",
            "[554]\tvalidation_0-merror:0.334705\n",
            "[555]\tvalidation_0-merror:0.334705\n",
            "[556]\tvalidation_0-merror:0.334705\n",
            "[557]\tvalidation_0-merror:0.334572\n",
            "[558]\tvalidation_0-merror:0.334838\n",
            "[559]\tvalidation_0-merror:0.334838\n",
            "[560]\tvalidation_0-merror:0.33444\n",
            "[561]\tvalidation_0-merror:0.33444\n",
            "[562]\tvalidation_0-merror:0.334174\n",
            "[563]\tvalidation_0-merror:0.33444\n",
            "[564]\tvalidation_0-merror:0.334572\n",
            "[565]\tvalidation_0-merror:0.334174\n",
            "[566]\tvalidation_0-merror:0.33444\n",
            "[567]\tvalidation_0-merror:0.334307\n",
            "[568]\tvalidation_0-merror:0.334307\n",
            "[569]\tvalidation_0-merror:0.33444\n",
            "[570]\tvalidation_0-merror:0.33351\n",
            "[571]\tvalidation_0-merror:0.33351\n",
            "[572]\tvalidation_0-merror:0.33351\n",
            "[573]\tvalidation_0-merror:0.333909\n",
            "[574]\tvalidation_0-merror:0.334041\n",
            "[575]\tvalidation_0-merror:0.334307\n",
            "[576]\tvalidation_0-merror:0.334838\n",
            "[577]\tvalidation_0-merror:0.334838\n",
            "[578]\tvalidation_0-merror:0.334971\n",
            "[579]\tvalidation_0-merror:0.334971\n",
            "[580]\tvalidation_0-merror:0.334838\n",
            "[581]\tvalidation_0-merror:0.334838\n",
            "[582]\tvalidation_0-merror:0.335104\n",
            "[583]\tvalidation_0-merror:0.335236\n",
            "[584]\tvalidation_0-merror:0.335236\n",
            "[585]\tvalidation_0-merror:0.335236\n",
            "[586]\tvalidation_0-merror:0.334971\n",
            "[587]\tvalidation_0-merror:0.334572\n",
            "[588]\tvalidation_0-merror:0.334705\n",
            "[589]\tvalidation_0-merror:0.334705\n",
            "[590]\tvalidation_0-merror:0.334572\n",
            "[591]\tvalidation_0-merror:0.334572\n",
            "[592]\tvalidation_0-merror:0.334838\n",
            "[593]\tvalidation_0-merror:0.334572\n",
            "[594]\tvalidation_0-merror:0.334838\n",
            "[595]\tvalidation_0-merror:0.334572\n",
            "[596]\tvalidation_0-merror:0.33444\n",
            "[597]\tvalidation_0-merror:0.334838\n",
            "[598]\tvalidation_0-merror:0.335236\n",
            "[599]\tvalidation_0-merror:0.335502\n",
            "[600]\tvalidation_0-merror:0.334838\n",
            "[601]\tvalidation_0-merror:0.334971\n",
            "[602]\tvalidation_0-merror:0.334971\n",
            "[603]\tvalidation_0-merror:0.334838\n",
            "[604]\tvalidation_0-merror:0.334705\n",
            "[605]\tvalidation_0-merror:0.33444\n",
            "[606]\tvalidation_0-merror:0.334572\n",
            "[607]\tvalidation_0-merror:0.334174\n",
            "[608]\tvalidation_0-merror:0.333909\n",
            "[609]\tvalidation_0-merror:0.33351\n",
            "[610]\tvalidation_0-merror:0.33351\n",
            "[611]\tvalidation_0-merror:0.334174\n",
            "[612]\tvalidation_0-merror:0.334572\n",
            "[613]\tvalidation_0-merror:0.334705\n",
            "[614]\tvalidation_0-merror:0.334572\n",
            "[615]\tvalidation_0-merror:0.33444\n",
            "[616]\tvalidation_0-merror:0.334705\n",
            "[617]\tvalidation_0-merror:0.334572\n",
            "[618]\tvalidation_0-merror:0.33444\n",
            "[619]\tvalidation_0-merror:0.334572\n",
            "[620]\tvalidation_0-merror:0.33444\n",
            "[621]\tvalidation_0-merror:0.334041\n",
            "[622]\tvalidation_0-merror:0.334174\n",
            "[623]\tvalidation_0-merror:0.334572\n",
            "[624]\tvalidation_0-merror:0.334838\n",
            "[625]\tvalidation_0-merror:0.335369\n",
            "[626]\tvalidation_0-merror:0.335369\n",
            "[627]\tvalidation_0-merror:0.335236\n",
            "[628]\tvalidation_0-merror:0.335502\n",
            "[629]\tvalidation_0-merror:0.335104\n",
            "[630]\tvalidation_0-merror:0.335635\n",
            "[631]\tvalidation_0-merror:0.335502\n",
            "[632]\tvalidation_0-merror:0.335369\n",
            "[633]\tvalidation_0-merror:0.335104\n",
            "[634]\tvalidation_0-merror:0.335236\n",
            "[635]\tvalidation_0-merror:0.334838\n",
            "[636]\tvalidation_0-merror:0.334705\n",
            "[637]\tvalidation_0-merror:0.334838\n",
            "[638]\tvalidation_0-merror:0.334572\n",
            "[639]\tvalidation_0-merror:0.334705\n",
            "[640]\tvalidation_0-merror:0.334838\n",
            "[641]\tvalidation_0-merror:0.334572\n",
            "[642]\tvalidation_0-merror:0.33444\n",
            "[643]\tvalidation_0-merror:0.334705\n",
            "[644]\tvalidation_0-merror:0.334705\n",
            "[645]\tvalidation_0-merror:0.334838\n",
            "[646]\tvalidation_0-merror:0.334838\n",
            "[647]\tvalidation_0-merror:0.334971\n",
            "[648]\tvalidation_0-merror:0.335236\n",
            "[649]\tvalidation_0-merror:0.335236\n",
            "[650]\tvalidation_0-merror:0.334971\n",
            "[651]\tvalidation_0-merror:0.335369\n",
            "[652]\tvalidation_0-merror:0.335369\n",
            "[653]\tvalidation_0-merror:0.335104\n",
            "[654]\tvalidation_0-merror:0.334971\n",
            "[655]\tvalidation_0-merror:0.334971\n",
            "[656]\tvalidation_0-merror:0.334971\n",
            "[657]\tvalidation_0-merror:0.334971\n",
            "[658]\tvalidation_0-merror:0.335369\n",
            "[659]\tvalidation_0-merror:0.334838\n",
            "[660]\tvalidation_0-merror:0.334572\n",
            "[661]\tvalidation_0-merror:0.334705\n",
            "[662]\tvalidation_0-merror:0.334572\n",
            "[663]\tvalidation_0-merror:0.33444\n",
            "[664]\tvalidation_0-merror:0.334838\n",
            "[665]\tvalidation_0-merror:0.334838\n",
            "[666]\tvalidation_0-merror:0.334705\n",
            "[667]\tvalidation_0-merror:0.334705\n",
            "[668]\tvalidation_0-merror:0.334174\n",
            "[669]\tvalidation_0-merror:0.334041\n",
            "[670]\tvalidation_0-merror:0.334041\n",
            "Stopping. Best iteration:\n",
            "[570]\tvalidation_0-merror:0.33351\n",
            "\n"
          ]
        }
      ]
    },
    {
      "cell_type": "code",
      "source": [
        "np.mean(ws100_preds == y_test)"
      ],
      "metadata": {
        "colab": {
          "base_uri": "https://localhost:8080/"
        },
        "id": "wtIRZStkQFUf",
        "outputId": "9fb443c3-7ca3-4ca8-f441-5dce52c2daea"
      },
      "execution_count": 41,
      "outputs": [
        {
          "output_type": "execute_result",
          "data": {
            "text/plain": [
              "0.6554657592513824"
            ]
          },
          "metadata": {},
          "execution_count": 41
        }
      ]
    },
    {
      "cell_type": "code",
      "source": [
        "from sklearn.tree import DecisionTreeClassifier\n",
        "\n",
        "dt_wrapper = DecisionTreeClassifier(\n",
        "                            criterion = 'entropy',\n",
        "                            max_depth = 500,\n",
        "                            random_state = 42\n",
        "                            )\n",
        "dt_wrapper.fit(x_dev_tfidf, y_dev)\n",
        "dt_preds = dt_wrapper.predict(x_dev_test_tfidf)"
      ],
      "metadata": {
        "id": "-A4hLWVSTYS6"
      },
      "execution_count": 76,
      "outputs": []
    },
    {
      "cell_type": "code",
      "source": [
        "np.mean(dt_preds == y_test)"
      ],
      "metadata": {
        "colab": {
          "base_uri": "https://localhost:8080/"
        },
        "id": "10TnA5e1Uayc",
        "outputId": "dc05595e-fc36-4d38-ee0a-45f89ac33608"
      },
      "execution_count": 77,
      "outputs": [
        {
          "output_type": "execute_result",
          "data": {
            "text/plain": [
              "0.5569970225435985"
            ]
          },
          "metadata": {},
          "execution_count": 77
        }
      ]
    },
    {
      "cell_type": "code",
      "source": [
        "from sklearn.svm import SVC\n",
        "svc_clf = SVC(\n",
        "            C = 50, \n",
        "            kernel = 'rbf',\n",
        "            gamma = 1\n",
        "            )     \n",
        "svc_clf.fit(x_dev_tfidf, y_dev)\n",
        "svc_preds = svc_clf.predict(x_dev_test_tfidf)"
      ],
      "metadata": {
        "id": "IPfsyMVFUwZL"
      },
      "execution_count": 72,
      "outputs": []
    },
    {
      "cell_type": "code",
      "source": [
        "np.mean(svc_preds == y_test)"
      ],
      "metadata": {
        "colab": {
          "base_uri": "https://localhost:8080/"
        },
        "id": "IG2d1jfgVF65",
        "outputId": "c6c1109f-e886-4427-9881-a321471279cc"
      },
      "execution_count": 73,
      "outputs": [
        {
          "output_type": "execute_result",
          "data": {
            "text/plain": [
              "0.6773713313483624"
            ]
          },
          "metadata": {},
          "execution_count": 73
        }
      ]
    },
    {
      "cell_type": "code",
      "source": [
        "from sklearn.neighbors import KNeighborsClassifier\n",
        "\n",
        "kn_clf = KNeighborsClassifier(\n",
        "                        n_neighbors=300, \n",
        "                        algorithm='ball_tree',\n",
        "                        leaf_size=30,\n",
        "                        n_jobs=-1)\n",
        "\n",
        "kn_clf.fit(x_dev_tfidf, y_dev)\n",
        "kn_preds = kn_clf.predict(x_dev_test_tfidf)"
      ],
      "metadata": {
        "colab": {
          "base_uri": "https://localhost:8080/"
        },
        "id": "61F_5cs8nQkL",
        "outputId": "2694b2fb-1112-41a6-cdfb-ceb5c5035b3f"
      },
      "execution_count": 110,
      "outputs": [
        {
          "output_type": "stream",
          "name": "stderr",
          "text": [
            "/usr/local/lib/python3.7/dist-packages/sklearn/neighbors/_base.py:501: UserWarning: cannot use tree with sparse input: using brute force\n",
            "  warnings.warn(\"cannot use tree with sparse input: using brute force\")\n"
          ]
        }
      ]
    },
    {
      "cell_type": "code",
      "source": [
        "f1_score(y_test, kn_preds, average='macro')"
      ],
      "metadata": {
        "colab": {
          "base_uri": "https://localhost:8080/"
        },
        "id": "SxzheB4npKe2",
        "outputId": "88f4eae0-2111-4c04-8095-ae7416fb7c71"
      },
      "execution_count": 111,
      "outputs": [
        {
          "output_type": "execute_result",
          "data": {
            "text/plain": [
              "0.478540692772221"
            ]
          },
          "metadata": {},
          "execution_count": 111
        }
      ]
    },
    {
      "cell_type": "code",
      "source": [
        "np.mean(kn_preds == y_test)"
      ],
      "metadata": {
        "colab": {
          "base_uri": "https://localhost:8080/"
        },
        "id": "I3Bzv_4Bnc3c",
        "outputId": "7f4bef1f-675c-461d-d242-522e8c8fed79"
      },
      "execution_count": 112,
      "outputs": [
        {
          "output_type": "execute_result",
          "data": {
            "text/plain": [
              "0.5076563164610803"
            ]
          },
          "metadata": {},
          "execution_count": 112
        }
      ]
    },
    {
      "cell_type": "code",
      "source": [
        "param_test1 = {\n",
        " 'max_depth':range(3,10,3),\n",
        " 'min_child_weight':range(1,6,2)\n",
        "}\n",
        "gsearch1 = GridSearchCV(estimator = XGBClassifier(learning_rate=0.1, \n",
        "                                                  n_estimators=1000, \n",
        "                                                  max_depth=5, \n",
        "                                                  min_child_weight=1, \n",
        "                                                  gamma=0, \n",
        "                                                  subsample=0.8, \n",
        "                                                  colsample_bytree=0.8,\n",
        "                                                  objective= 'multi:softmax', \n",
        "                                                  nthread=-1, \n",
        "                                                  scale_pos_weight=1, seed=42),\n",
        "                        param_grid = param_test1, \n",
        "                        scoring='accuracy',\n",
        "                        n_jobs=-1,\n",
        "                        cv=5, \n",
        "                        verbose=10)\n",
        "\n",
        "gsearch1.fit(x_train_tfidf, y_train)\n",
        "gsearch1.cv_results_, gsearch1.best_params_, gsearch1.best_score_"
      ],
      "metadata": {
        "id": "S0DLu13bLKuu"
      },
      "execution_count": null,
      "outputs": []
    }
  ]
}